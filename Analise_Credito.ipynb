{
 "cells": [
  {
   "cell_type": "markdown",
   "id": "f6lsjzO_Zl1w",
   "metadata": {
    "id": "f6lsjzO_Zl1w"
   },
   "source": [
    "# Análise Preliminar de Crédito"
   ]
  },
  {
   "cell_type": "markdown",
   "id": "g2ClqsavZzGp",
   "metadata": {
    "id": "g2ClqsavZzGp"
   },
   "source": [
    "## 1. Entendimento do Problema e do Contexto\n",
    "\n",
    " ### O que está sendo medido?\n",
    "#### O dataset mede informações financeiras e demográficas de clientes de uma instituição financeira, visando prever o risco de inadimplência.\n",
    "#### A variável alvo é 'default' (0 = cliente adimplente, 1 = cliente inadimplente).\n",
    "\n",
    "\n",
    "### Quais são as variáveis disponíveis?\n",
    "\n",
    "#### - Renda, Idade, Empréstimo\n",
    "\n",
    "## 2. Formulação de Perguntas\n",
    "#### 1. Qual a proporção de clientes inadimplentes (default)?\n",
    "#### 2. Existe relação entre idade e inadimplência?\n",
    "#### 3. Pessoas com maior empréstimo têm maior chance de default?\n",
    "#### 4. Existe correlação entre renda e empréstimo?\n",
    "#### 5. Há padrões estatísticos ou outliers relevantes entre as variáveis?\n",
    "\n",
    "## 3. Principais Observações\n",
    "#### - Cerca de 14% dos clientes estão inadimplentes (default = 1).\n",
    "#### - Clientes inadimplentes tendem a ter empréstimos maiores.\n",
    "#### - A idade média dos inadimplentes parece ser um pouco menor.\n",
    "#### - Existe correlação leve entre empréstimo e renda.\n",
    "#### - Há valores negativos de idade, que foram removidos."
   ]
  },
  {
   "cell_type": "code",
   "execution_count": null,
   "id": "69492e61-4162-443b-8670-2aef2569c195",
   "metadata": {
    "id": "69492e61-4162-443b-8670-2aef2569c195"
   },
   "outputs": [],
   "source": [
    "!pip -q install plotly"
   ]
  },
  {
   "cell_type": "code",
   "execution_count": null,
   "id": "aa85e37e-88b8-4599-882c-c31df86e7c9e",
   "metadata": {
    "id": "aa85e37e-88b8-4599-882c-c31df86e7c9e"
   },
   "outputs": [],
   "source": [
    "!pip -q install yellowbrick"
   ]
  },
  {
   "cell_type": "code",
   "execution_count": null,
   "id": "a2267120-d10f-4b19-bca5-b1e154347f58",
   "metadata": {
    "id": "a2267120-d10f-4b19-bca5-b1e154347f58"
   },
   "outputs": [],
   "source": [
    "import pandas as pd\n",
    "import numpy as np\n",
    "import seaborn as sns\n",
    "import matplotlib.pyplot as plt\n",
    "import plotly.express as px"
   ]
  },
  {
   "cell_type": "code",
   "execution_count": null,
   "id": "697507f8-aa3d-49b1-8123-fa809b2efbb3",
   "metadata": {
    "id": "697507f8-aa3d-49b1-8123-fa809b2efbb3"
   },
   "outputs": [],
   "source": [
    "base_credit = pd.read_csv('credit_data.csv')"
   ]
  },
  {
   "cell_type": "code",
   "execution_count": null,
   "id": "hES9QZEag0Ch",
   "metadata": {
    "id": "hES9QZEag0Ch"
   },
   "outputs": [],
   "source": [
    "base_credit.rename(columns={'default': 'risk'}, inplace=True)"
   ]
  },
  {
   "cell_type": "code",
   "execution_count": null,
   "id": "3abbf199-feff-4c05-8a2f-a6a2f45eda4a",
   "metadata": {
    "colab": {
     "base_uri": "https://localhost:8080/",
     "height": 424
    },
    "id": "3abbf199-feff-4c05-8a2f-a6a2f45eda4a",
    "outputId": "eb488295-c3da-443b-af36-119071fd3b6c"
   },
   "outputs": [],
   "source": [
    "# Mostra informações do DataFrame\n",
    "base_credit"
   ]
  },
  {
   "cell_type": "code",
   "execution_count": null,
   "id": "S__gAX7Uaox8",
   "metadata": {
    "colab": {
     "base_uri": "https://localhost:8080/",
     "height": 532
    },
    "id": "S__gAX7Uaox8",
    "outputId": "3a09fd33-574e-4c9c-dc6c-1f7186a4642a"
   },
   "outputs": [],
   "source": [
    "#Análise Exploratória dos Dados (EDA)\n",
    "\n",
    "# Informações iniciais\n",
    "display(base_credit.info())\n",
    "# Estatisticas descritivas\n",
    "base_credit.describe()\n",
    "display(base_credit.describe())"
   ]
  },
  {
   "cell_type": "code",
   "execution_count": null,
   "id": "Ddy_3333eG56",
   "metadata": {
    "id": "Ddy_3333eG56"
   },
   "outputs": [],
   "source": [
    "# Correção de idades negativas\n",
    "base_credit = base_credit[base_credit['age'] > 0]"
   ]
  },
  {
   "cell_type": "code",
   "execution_count": null,
   "id": "TOpswpjpeOYT",
   "metadata": {
    "colab": {
     "base_uri": "https://localhost:8080/",
     "height": 472
    },
    "id": "TOpswpjpeOYT",
    "outputId": "68055fed-b532-42e5-f6e1-1f6d5bf4d665"
   },
   "outputs": [],
   "source": [
    "# Distribuição da variável alvo\n",
    "graph = sns.countplot(data=base_credit, x='risk')\n",
    "plt.title(\"Distribuição da variável de risco\")\n",
    "plt.xlabel(\"Risco (0 = Não, 1 = Sim)\")\n",
    "plt.ylabel(\"Quantidade de clientes\")\n",
    "plt.show()"
   ]
  },
  {
   "cell_type": "code",
   "execution_count": null,
   "id": "uk_IMYyTeTrv",
   "metadata": {
    "colab": {
     "base_uri": "https://localhost:8080/",
     "height": 472
    },
    "id": "uk_IMYyTeTrv",
    "outputId": "c04b296b-2a89-4046-c85c-4292b107bea0"
   },
   "outputs": [],
   "source": [
    "# Boxplot da idade por inadimplência\n",
    "sns.boxplot(data=base_credit, x='risk', y='age')\n",
    "plt.title('Idade vs Inadimplência')\n",
    "plt.xlabel('Risco (0 = Não, 1 = Sim)')\n",
    "plt.ylabel('Idade')\n",
    "plt.show()\n"
   ]
  },
  {
   "cell_type": "code",
   "execution_count": null,
   "id": "G9fuSw4leZyu",
   "metadata": {
    "colab": {
     "base_uri": "https://localhost:8080/",
     "height": 472
    },
    "id": "G9fuSw4leZyu",
    "outputId": "baad4b8c-58d0-4fbf-862d-a228a770cd0a"
   },
   "outputs": [],
   "source": [
    "# Valor do empréstimo por inadimplência\n",
    "sns.boxplot(data=base_credit, x='risk', y='loan')\n",
    "plt.title('Empréstimo vs Inadimplência')\n",
    "plt.xlabel('Risco (0 = Não, 1 = Sim)')\n",
    "plt.ylabel('Valor do Empréstimo')\n",
    "plt.show()"
   ]
  },
  {
   "cell_type": "code",
   "execution_count": null,
   "id": "JIJ8WtwHeeWM",
   "metadata": {
    "colab": {
     "base_uri": "https://localhost:8080/",
     "height": 472
    },
    "id": "JIJ8WtwHeeWM",
    "outputId": "a8882b38-f15f-49ec-fff3-512925a8a0a0"
   },
   "outputs": [],
   "source": [
    "# Relação entre renda e empréstimo\n",
    "sns.scatterplot(data=base_credit, x='income', y='loan', hue='risk')\n",
    "plt.title('Renda vs Empréstimo colorido por Inadimplência')\n",
    "plt.xlabel('Renda')\n",
    "plt.ylabel('Empréstimo')\n",
    "plt.show()"
   ]
  },
  {
   "cell_type": "code",
   "execution_count": null,
   "id": "u7cr9vNwehS4",
   "metadata": {
    "colab": {
     "base_uri": "https://localhost:8080/",
     "height": 545
    },
    "id": "u7cr9vNwehS4",
    "outputId": "b984db17-a96b-4ed4-c146-6bff0847d006"
   },
   "outputs": [],
   "source": [
    "# Matriz de correlação\n",
    "plt.figure(figsize=(8, 6))\n",
    "sns.heatmap(base_credit.corr(numeric_only=True), annot=True, cmap='coolwarm')\n",
    "plt.title('Mapa de Calor das Correlações')\n",
    "plt.show()"
   ]
  },
  {
   "cell_type": "code",
   "execution_count": null,
   "id": "NT4Y0mr-avhN",
   "metadata": {
    "colab": {
     "base_uri": "https://localhost:8080/",
     "height": 473
    },
    "id": "NT4Y0mr-avhN",
    "outputId": "8ad07fba-8247-4032-cdf8-fef18c2eb449"
   },
   "outputs": [],
   "source": [
    "import seaborn as sns\n",
    "import matplotlib.pyplot as plt\n",
    "\n",
    "\n",
    "sns.countplot(data=base_credit, x='risk')\n",
    "plt.title(\"Distribuição da variável inadimplência do cliente\")\n",
    "plt.xlabel(\"Inadimplência (0 = Não, 1 = Sim)\")\n",
    "plt.ylabel(\"Quantidade de clientes\")\n",
    "plt.show()\n"
   ]
  },
  {
   "cell_type": "markdown",
   "id": "3lGZeArhf0Ar",
   "metadata": {
    "id": "3lGZeArhf0Ar"
   },
   "source": [
    "# Analisando outras variáveis"
   ]
  },
  {
   "cell_type": "code",
   "execution_count": null,
   "id": "GtpKllSXgMw5",
   "metadata": {
    "id": "GtpKllSXgMw5"
   },
   "outputs": [],
   "source": [
    "import matplotlib.pyplot as plt\n",
    "import seaborn as sns"
   ]
  },
  {
   "cell_type": "code",
   "execution_count": null,
   "id": "PX-Tg38-gTmd",
   "metadata": {
    "colab": {
     "base_uri": "https://localhost:8080/",
     "height": 473
    },
    "id": "PX-Tg38-gTmd",
    "outputId": "93cca8f1-aa69-4a40-8a06-9649fe438676"
   },
   "outputs": [],
   "source": [
    "sns.countplot(data=base_credit, x='risk')\n",
    "plt.title(\"Distribuição da variável de risco\")\n",
    "plt.xlabel(\"Inadimplência (0 = Não, 1 = Sim)\")\n",
    "plt.ylabel(\"Número de clientes\")\n",
    "plt.show()"
   ]
  },
  {
   "cell_type": "markdown",
   "id": "xBA16D6UjsQk",
   "metadata": {
    "id": "xBA16D6UjsQk"
   },
   "source": [
    "## Feature Engineering"
   ]
  },
  {
   "cell_type": "code",
   "execution_count": null,
   "id": "yf9h3GzWjW8Q",
   "metadata": {
    "id": "yf9h3GzWjW8Q"
   },
   "outputs": [],
   "source": [
    "pip install sklean"
   ]
  },
  {
   "cell_type": "code",
   "execution_count": null,
   "id": "RGOe7V6KjKzu",
   "metadata": {
    "id": "RGOe7V6KjKzu"
   },
   "outputs": [],
   "source": [
    "from sklearn.model_selection import train_test_split\n",
    "from sklearn.linear_model import LogisticRegression\n",
    "from sklearn.metrics import accuracy_score,confusion_matrix, classification_report\n",
    "from sklearn.ensemble import RandomForestClassifier\n",
    "from sklearn.utils import resample\n"
   ]
  },
  {
   "cell_type": "code",
   "execution_count": null,
   "id": "0ohzMezkjoxk",
   "metadata": {
    "id": "0ohzMezkjoxk"
   },
   "outputs": [],
   "source": [
    "base_credit = pd.read_csv('credit_data.csv')\n",
    "base_credit = base_credit[base_credit['age'] > 0] # remove idades negativas"
   ]
  },
  {
   "cell_type": "code",
   "execution_count": null,
   "id": "ogJCULsCj5RK",
   "metadata": {
    "id": "ogJCULsCj5RK"
   },
   "outputs": [],
   "source": [
    "# Criando faixas de idade e de renda\n",
    "\n",
    "base_credit['age_range'] = pd.cut(base_credit['age'], bins=[0,30,45,60,100], labels=['young', 'adult', 'middle age', 'elderly'])\n",
    "base_credit['age_range'] = pd.cut(base_credit['income'], bins=4, labels=['low', 'low-medium', 'medium-high', 'very high'])"
   ]
  },
  {
   "cell_type": "code",
   "execution_count": null,
   "id": "mAvI2_iipJlW",
   "metadata": {
    "id": "mAvI2_iipJlW"
   },
   "outputs": [],
   "source": [
    "#Balanceamento das classes (Oversampling)\n",
    "#Separando as classes\n",
    "\n",
    "df_majority = base_credit[base_credit.default == 0]\n",
    "df_minority = base_credit[base_credit.default == 1]"
   ]
  },
  {
   "cell_type": "code",
   "execution_count": null,
   "id": "-e3tF2hHpxQD",
   "metadata": {
    "id": "-e3tF2hHpxQD"
   },
   "outputs": [],
   "source": [
    "#Oversampling da minoria\n",
    "\n",
    "df_minority_upsampled =resample(df_minority, replace=True, n_samples=len(df_majority), random_state=123)"
   ]
  },
  {
   "cell_type": "code",
   "execution_count": null,
   "id": "eab9b258-84ed-4482-9abf-6660b76f2d75",
   "metadata": {},
   "outputs": [],
   "source": [
    "#Combinando\n",
    "df_balance = pd.concat([df_majority, df_minority_upsampled])"
   ]
  },
  {
   "cell_type": "markdown",
   "id": "2ce55f6b-868e-4633-97b4-ba967862e137",
   "metadata": {},
   "source": [
    "### Modelagem Preditiva"
   ]
  },
  {
   "cell_type": "code",
   "execution_count": null,
   "id": "0a3135ed-ce38-45a4-b2b5-4f433b63df34",
   "metadata": {},
   "outputs": [],
   "source": [
    "# Usando apenas variáveis numéricas para simplificar\n",
    "x = df_balance[['income', 'age', 'loan']] \n",
    "y = df_balance['default'] "
   ]
  },
  {
   "cell_type": "code",
   "execution_count": null,
   "id": "abe61ba2-9c17-4d53-a79b-434dbe0e89dd",
   "metadata": {},
   "outputs": [],
   "source": [
    "# Divisão treino/teste\n",
    "x_train, x_test, y_train, y_test = train_test_split(x,y, test_size=0.3, random_state=42)"
   ]
  },
  {
   "cell_type": "code",
   "execution_count": null,
   "id": "e1643282-c444-41a2-977e-4ac849c3ed09",
   "metadata": {},
   "outputs": [],
   "source": [
    "#Regressao Logistica\n",
    "\n",
    "log_model = LogisticRegression()\n",
    "log_model.fit(x_train, y_train)\n",
    "y_pred_log = log_model.predict(x_test)\n",
    "\n",
    "print(\"----- Regressão Logística -----\") \n",
    "print(confusion_matrix(y_test,y_pred_log))\n",
    "print(classification_report(y_test,y_pred_log))"
   ]
  },
  {
   "cell_type": "markdown",
   "id": "f8f31e11-1066-45cf-b2e4-d56320016563",
   "metadata": {},
   "source": [
    "### Random Forest"
   ]
  },
  {
   "cell_type": "code",
   "execution_count": null,
   "id": "dd52e6d5-ff48-47ad-a4f3-d45cc4354b81",
   "metadata": {},
   "outputs": [],
   "source": [
    "rf_model = RandomForestClassifier()\n",
    "rf_model.fit(x_train, y_train)\n",
    "y_pred_rf = rf_model.predict(x_test)\n",
    "\n",
    "print(\"----- Random Forest ----- \")\n",
    "print(confusion_matrix(y_test,y_pred_rf))\n",
    "print(classification_report(y_test,y_pred_rf))"
   ]
  },
  {
   "cell_type": "markdown",
   "id": "1cbb317e-4528-4c47-80a8-cd77cd6b5096",
   "metadata": {},
   "source": [
    "### Visualizacoes Complementares"
   ]
  },
  {
   "cell_type": "code",
   "execution_count": null,
   "id": "10fb8811-9545-4637-b1a5-6c1dc842ece4",
   "metadata": {},
   "outputs": [],
   "source": [
    "sns.countplot(data=df_balance, x= 'age_range', hue='default')\n",
    "plt.title(\"Inadimplência por faixa de idade\")\n",
    "plt.show()"
   ]
  },
  {
   "cell_type": "code",
   "execution_count": null,
   "id": "6e2d311f-3e81-40b5-bffe-79fa2eecab2c",
   "metadata": {},
   "outputs": [],
   "source": [
    "sns.countplot(data=df_balance, x='age_range', hue='default')\n",
    "plt.title(\"Inadimplência por faixa de renda\")\n",
    "plt.show()"
   ]
  },
  {
   "cell_type": "markdown",
   "id": "x_we27fleoDV",
   "metadata": {
    "id": "x_we27fleoDV",
    "jp-MarkdownHeadingCollapsed": true
   },
   "source": [
    "# Aprendizado"
   ]
  },
  {
   "cell_type": "code",
   "execution_count": null,
   "id": "aUaJOivzbfml",
   "metadata": {
    "colab": {
     "base_uri": "https://localhost:8080/",
     "height": 424
    },
    "id": "aUaJOivzbfml",
    "outputId": "6b8f6c1b-6eb7-4df9-ccc7-8d1b80d910a4"
   },
   "outputs": [],
   "source": [
    "# Filtra linhas com condição\n",
    "base_credit[base_credit['age']<20]"
   ]
  },
  {
   "cell_type": "code",
   "execution_count": null,
   "id": "iqMtb-Yqes2v",
   "metadata": {
    "colab": {
     "base_uri": "https://localhost:8080/",
     "height": 363
    },
    "id": "iqMtb-Yqes2v",
    "outputId": "ee198145-0b60-420f-a7f5-e11a769f4e08"
   },
   "outputs": [],
   "source": [
    "base_credit.head(10)"
   ]
  },
  {
   "cell_type": "code",
   "execution_count": null,
   "id": "i4hSs4s-eu5S",
   "metadata": {
    "colab": {
     "base_uri": "https://localhost:8080/",
     "height": 458
    },
    "id": "i4hSs4s-eu5S",
    "outputId": "ab685158-958e-4c0e-9851-534a5cd3f8e7"
   },
   "outputs": [],
   "source": [
    "# Acessando uma coluna com colchetes\n",
    "\n",
    "base_credit['age']"
   ]
  },
  {
   "cell_type": "code",
   "execution_count": null,
   "id": "MN2zjc25ezGj",
   "metadata": {
    "colab": {
     "base_uri": "https://localhost:8080/",
     "height": 455
    },
    "id": "MN2zjc25ezGj",
    "outputId": "ed8737ab-d52f-4930-9170-aed113146e82"
   },
   "outputs": [],
   "source": [
    " # Agrupa e tira a média\n",
    "base_credit.groupby('age').mean()"
   ]
  },
  {
   "cell_type": "code",
   "execution_count": null,
   "id": "gmU-Vkxxe9br",
   "metadata": {
    "id": "gmU-Vkxxe9br"
   },
   "outputs": [],
   "source": [
    "base_credit.groupby('age')['income'].mean()"
   ]
  }
 ],
 "metadata": {
  "colab": {
   "provenance": [],
   "toc_visible": true
  },
  "kernelspec": {
   "display_name": "Python [conda env:base] *",
   "language": "python",
   "name": "conda-base-py"
  },
  "language_info": {
   "codemirror_mode": {
    "name": "ipython",
    "version": 3
   },
   "file_extension": ".py",
   "mimetype": "text/x-python",
   "name": "python",
   "nbconvert_exporter": "python",
   "pygments_lexer": "ipython3",
   "version": "3.12.7"
  }
 },
 "nbformat": 4,
 "nbformat_minor": 5
}
